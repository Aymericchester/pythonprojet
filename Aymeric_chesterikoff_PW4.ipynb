{
  "nbformat": 4,
  "nbformat_minor": 0,
  "metadata": {
    "colab": {
      "provenance": []
    },
    "kernelspec": {
      "name": "python3",
      "display_name": "Python 3"
    },
    "language_info": {
      "name": "python"
    }
  },
  "cells": [
    {
      "cell_type": "markdown",
      "source": [
        "**Learning outcomes PW4**\n",
        "\n",
        "In this section, we will talk about three unsupervised machine learning algorithmes:\n",
        "Hierarchical Clustering, Kmeans and DBSCAN. We use the rand index metric to evaluate the\n",
        "performances for each algorithmes and compare them with the random clustering algorithm.\n",
        "1. Part I: Generate the orignam data with label manually and define the metric function\n",
        "(rand index).\n",
        "2. Part II: Clustering the orignal data by Hierarchical Clustering.\n",
        "3. Part III: Clustering the orignal data by Kmeans.\n",
        "4. Part IV: Clustering the orignal dayta by DBSCAN.\n",
        "\n",
        "**Part I: Generate the orignam data with\n",
        "label manually and define the metric\n",
        "function (rand index).**"
      ],
      "metadata": {
        "id": "lgVtfNEj_5SE"
      }
    },
    {
      "cell_type": "markdown",
      "source": [
        "**PW4-Unsupervised machine learning:\n",
        "Kmeans, Hclustering, DBSCAN**"
      ],
      "metadata": {
        "id": "zbqvC_vOCzed"
      }
    },
    {
      "cell_type": "code",
      "source": [
        "import numpy as np\n",
        "import matplotlib.pyplot as plt\n",
        "import scipy as sc\n",
        "from scipy import cluster\n",
        "import sklearn as sk\n",
        "from sklearn import datasets\n",
        "import pandas as pd"
      ],
      "metadata": {
        "id": "1H0slPgX_74P"
      },
      "execution_count": 1,
      "outputs": []
    },
    {
      "cell_type": "markdown",
      "source": [
        "**Exercise 1:** Generate a synthetic dataset"
      ],
      "metadata": {
        "id": "EWVXTZ_XBEQz"
      }
    },
    {
      "cell_type": "markdown",
      "source": [
        "Generate a set of 100 points in a 2 dimensional space split into 4 non overlapping\n",
        "clusters. You may need the function np.concatenate and the function\n",
        "np.random.rand()"
      ],
      "metadata": {
        "id": "5fBo3WKTqyGw"
      }
    },
    {
      "cell_type": "code",
      "source": [
        "syn=np.empty([0, 2]);\n",
        "synLabels=[];\n",
        "for k in range(4):\n",
        "  syn = np.concatenate((syn, k*2+np.random.rand(25, 2)), axis=0);\n",
        "  synLabels = np.concatenate((synLabels, np.ones(25)*k));\n",
        "\n",
        "print(syn)\n",
        "print(synLabels)"
      ],
      "metadata": {
        "colab": {
          "base_uri": "https://localhost:8080/"
        },
        "id": "SebynTJWAI_7",
        "outputId": "67f61570-6f0d-470b-dbc6-ffc3203234ed"
      },
      "execution_count": 3,
      "outputs": [
        {
          "output_type": "stream",
          "name": "stdout",
          "text": [
            "[[0.66602179 0.02682448]\n",
            " [0.43099258 0.64334405]\n",
            " [0.75654893 0.81503122]\n",
            " [0.7764987  0.02890763]\n",
            " [0.74250087 0.75121199]\n",
            " [0.59272022 0.91056593]\n",
            " [0.1105412  0.17922844]\n",
            " [0.96672449 0.72651391]\n",
            " [0.54094933 0.49047813]\n",
            " [0.95927255 0.41959266]\n",
            " [0.26447845 0.88730715]\n",
            " [0.5722269  0.87154404]\n",
            " [0.98044422 0.69128469]\n",
            " [0.72664063 0.75880741]\n",
            " [0.03835238 0.43444473]\n",
            " [0.07127901 0.18607864]\n",
            " [0.61320886 0.75543385]\n",
            " [0.40400428 0.20508752]\n",
            " [0.68073426 0.81863059]\n",
            " [0.05105953 0.44125927]\n",
            " [0.92879154 0.8468901 ]\n",
            " [0.07360067 0.89789612]\n",
            " [0.8129089  0.81554571]\n",
            " [0.18032564 0.91322287]\n",
            " [0.95725113 0.9625564 ]\n",
            " [2.14938281 2.3024217 ]\n",
            " [2.36693437 2.77886121]\n",
            " [2.649102   2.65949039]\n",
            " [2.73858794 2.0539651 ]\n",
            " [2.10554089 2.03667416]\n",
            " [2.41192011 2.40802005]\n",
            " [2.50008924 2.39699627]\n",
            " [2.03164264 2.36777367]\n",
            " [2.71890271 2.31989498]\n",
            " [2.52273514 2.66558829]\n",
            " [2.90286991 2.39514064]\n",
            " [2.02399909 2.85319109]\n",
            " [2.43649369 2.8637002 ]\n",
            " [2.34668686 2.05119363]\n",
            " [2.30196375 2.96044885]\n",
            " [2.29114368 2.70327784]\n",
            " [2.65700585 2.80457936]\n",
            " [2.79573126 2.59561629]\n",
            " [2.05081616 2.6405269 ]\n",
            " [2.15488866 2.92064582]\n",
            " [2.06788435 2.74660027]\n",
            " [2.64447348 2.23872768]\n",
            " [2.92414766 2.98789393]\n",
            " [2.64883074 2.11352535]\n",
            " [2.93256326 2.85194262]\n",
            " [4.60364115 4.94414308]\n",
            " [4.50217534 4.32491993]\n",
            " [4.23747823 4.21731667]\n",
            " [4.19969406 4.46264228]\n",
            " [4.47560914 4.75001765]\n",
            " [4.45304835 4.43150203]\n",
            " [4.70697117 4.95862904]\n",
            " [4.95610593 4.87280009]\n",
            " [4.13149208 4.45068834]\n",
            " [4.2503675  4.50166335]\n",
            " [4.92909448 4.64513379]\n",
            " [4.44575524 4.95757034]\n",
            " [4.02376374 4.03550578]\n",
            " [4.74866221 4.24823764]\n",
            " [4.18238131 4.80270856]\n",
            " [4.80747154 4.6005495 ]\n",
            " [4.2031961  4.30014497]\n",
            " [4.19260712 4.36255693]\n",
            " [4.92478409 4.73814234]\n",
            " [4.93083699 4.89657613]\n",
            " [4.72439994 4.18434255]\n",
            " [4.74959225 4.43331917]\n",
            " [4.68690659 4.29612548]\n",
            " [4.4322488  4.8949552 ]\n",
            " [4.28386643 4.87830823]\n",
            " [6.2513685  6.03645419]\n",
            " [6.88505337 6.45447666]\n",
            " [6.08398679 6.29978971]\n",
            " [6.65257272 6.99967418]\n",
            " [6.89416192 6.64863138]\n",
            " [6.02723196 6.44753581]\n",
            " [6.65406403 6.94119665]\n",
            " [6.10537081 6.84860086]\n",
            " [6.182741   6.82397572]\n",
            " [6.68298155 6.71548359]\n",
            " [6.14893677 6.47268466]\n",
            " [6.36263792 6.03896236]\n",
            " [6.50709538 6.81060626]\n",
            " [6.7867278  6.9467034 ]\n",
            " [6.73902902 6.44438448]\n",
            " [6.30159295 6.12733467]\n",
            " [6.84097547 6.63331954]\n",
            " [6.65115276 6.80334325]\n",
            " [6.61122274 6.83858444]\n",
            " [6.3856354  6.27102525]\n",
            " [6.79238689 6.61536448]\n",
            " [6.74612273 6.99400817]\n",
            " [6.22420173 6.95922789]\n",
            " [6.31980861 6.52801101]\n",
            " [6.97772511 6.96207333]]\n",
            "[0. 0. 0. 0. 0. 0. 0. 0. 0. 0. 0. 0. 0. 0. 0. 0. 0. 0. 0. 0. 0. 0. 0. 0.\n",
            " 0. 1. 1. 1. 1. 1. 1. 1. 1. 1. 1. 1. 1. 1. 1. 1. 1. 1. 1. 1. 1. 1. 1. 1.\n",
            " 1. 1. 2. 2. 2. 2. 2. 2. 2. 2. 2. 2. 2. 2. 2. 2. 2. 2. 2. 2. 2. 2. 2. 2.\n",
            " 2. 2. 2. 3. 3. 3. 3. 3. 3. 3. 3. 3. 3. 3. 3. 3. 3. 3. 3. 3. 3. 3. 3. 3.\n",
            " 3. 3. 3. 3.]\n"
          ]
        }
      ]
    },
    {
      "cell_type": "markdown",
      "source": [
        "Display the set with one color per cluster using the scatter function from\n",
        "matplotlib.pyplot. Here, you may use plt.scatter(X, Y, color)\n"
      ],
      "metadata": {
        "id": "EBBEdkoTq2Ag"
      }
    },
    {
      "cell_type": "code",
      "source": [
        "plt.scatter(syn[:, 0], syn[:, 1], c=synLabels);\n",
        "plt.show();"
      ],
      "metadata": {
        "colab": {
          "base_uri": "https://localhost:8080/",
          "height": 430
        },
        "id": "2W-MfzhUAajR",
        "outputId": "1f0e5a83-a812-4623-8aad-b7514575a252"
      },
      "execution_count": 4,
      "outputs": [
        {
          "output_type": "display_data",
          "data": {
            "text/plain": [
              "<Figure size 640x480 with 1 Axes>"
            ],
            "image/png": "[encoded data removed]"
          },
          "metadata": {}
        }
      ]
    },
    {
      "cell_type": "markdown",
      "source": [
        "Cluster this orignal data by the random clustering algorithm as the Baseline.\n",
        "\n",
        "Cluster this dataset into k clusters by assigning a random integer value between 0 and k-1 to\n",
        "each point. You may need the function np.random.randint()"
      ],
      "metadata": {
        "id": "5gtuLl5Uq8A7"
      }
    },
    {
      "cell_type": "code",
      "source": [
        "def randomClustering(syn, k):\n",
        "  return np.random.randint(0, k, syn.shape[0])\n",
        "\n",
        "rand = randomClustering(syn, 4)\n",
        "rand"
      ],
      "metadata": {
        "colab": {
          "base_uri": "https://localhost:8080/"
        },
        "id": "wq00EL2NAv74",
        "outputId": "db423941-32bf-4103-c925-095eade0c2ef"
      },
      "execution_count": 5,
      "outputs": [
        {
          "output_type": "execute_result",
          "data": {
            "text/plain": [
              "array([0, 3, 0, 0, 1, 3, 0, 1, 2, 0, 3, 2, 3, 0, 2, 1, 3, 1, 1, 1, 2, 0,\n",
              "       1, 3, 1, 3, 3, 2, 0, 3, 2, 1, 1, 0, 3, 0, 2, 2, 2, 2, 2, 3, 1, 1,\n",
              "       0, 2, 0, 2, 2, 2, 1, 2, 2, 2, 3, 1, 0, 2, 3, 1, 1, 1, 1, 2, 1, 1,\n",
              "       0, 2, 3, 3, 1, 1, 3, 3, 0, 3, 0, 3, 3, 2, 0, 2, 1, 3, 3, 1, 3, 2,\n",
              "       1, 3, 0, 0, 2, 2, 2, 2, 3, 1, 3, 2])"
            ]
          },
          "metadata": {},
          "execution_count": 5
        }
      ]
    },
    {
      "cell_type": "markdown",
      "source": [
        "**Exercise 2:** Create the rand index as the metric to evaluate the performance of\n",
        "clustering."
      ],
      "metadata": {
        "id": "DsVKM-0WBHQO"
      }
    },
    {
      "cell_type": "markdown",
      "source": [
        "The Rand index or Rand measure (named after William M. Rand) in statistics, and in\n",
        "particular in data clustering, is a measure of the similarity between two data clusterings. A\n",
        "form of the Rand index may be defined that is adjusted for the chance grouping of elements,\n",
        "this is the adjusted Rand index. The Rand index is the accuracy of determining if a link\n",
        "belongs within a cluster or not.\n",
        "\n",
        "Given a set of n elements and two partitions of S to compare,\n",
        ", a partition of S into r subsets, and , a partition of S into s\n",
        "subsets, define the following:\n",
        "\n",
        "a, the number of pairs of elements in S that are in the same subset\n",
        "in X and in the same subset in Y;\n",
        "\n",
        "b, the number of pairs of elements in S that are in different\n",
        "subsets in X and in different subsets in Y;\n",
        "\n",
        "c, the number of pairs of elements in S that are in the same subset\n",
        "in X and in different subsets in Y;\n",
        "\n",
        "d, the number of pairs of elements in S that are in different\n",
        "subsets in X and in the same subset in Y.\n",
        "\n",
        "The Rand index, , is:\n",
        "Intuitively, can be considered as the number of agreements between and and\n",
        "as the number of disagreements between and .\n",
        "\n",
        "Since the denominator is the total number of pairs, the Rand index represents the frequency\n",
        "of occurrence of agreements over the total pairs, or the probability that and will agree\n",
        "on a randomly chosen pair.\n",
        "\n",
        "Implement the rand index criterion (see https://en.wikipedia.org/wiki/Rand_index for\n",
        "reference)"
      ],
      "metadata": {
        "id": "ph-fmxg4rF14"
      }
    },
    {
      "cell_type": "code",
      "source": [
        "def rand_index(ref, est):\n",
        "  num = 0\n",
        "  if len(ref) != len(est):\n",
        "    print('arrays must be on the same size')\n",
        "    return None\n",
        "  for k in range(len(ref)):\n",
        "    for l in range(len(ref)-k-1):\n",
        "      if (ref[k]==ref[k+l+1] and est[k]==est[k+l+1]) or (ref[k] != ref[k+l+1] and est[k] != est[k+l+1]):\n",
        "        num += 1\n",
        "  den = len(ref) * (len(ref) - 1) / 2\n",
        "  rindex=num/den\n",
        "  return rindex"
      ],
      "metadata": {
        "id": "1lfIyf-eCEl8"
      },
      "execution_count": 6,
      "outputs": []
    },
    {
      "cell_type": "markdown",
      "source": [
        "Calculate the rand Index for random clustering (the ground truth is given at the first step as\n",
        "synLabels)"
      ],
      "metadata": {
        "id": "--U2Ujw2rUPp"
      }
    },
    {
      "cell_type": "code",
      "source": [
        "ri = rand_index(rand, rand)\n",
        "print(ri)\n",
        "ri = rand_index(synLabels, rand)\n",
        "print(ri)"
      ],
      "metadata": {
        "colab": {
          "base_uri": "https://localhost:8080/"
        },
        "id": "gjEGGDhZCvvk",
        "outputId": "ff093523-f1aa-4c3b-91b0-9db1da3846fa"
      },
      "execution_count": 7,
      "outputs": [
        {
          "output_type": "stream",
          "name": "stdout",
          "text": [
            "1.0\n",
            "0.6329292929292929\n"
          ]
        }
      ]
    },
    {
      "cell_type": "markdown",
      "source": [
        "Compute the rand index between the reference clustering and 100 runs of the baseline\n",
        "algorithm."
      ],
      "metadata": {
        "id": "IfjEDL4SrXdc"
      }
    },
    {
      "cell_type": "code",
      "source": [
        "ri = np.zeros((100))\n",
        "for k in range(100):\n",
        "  ri[k] = rand_index(synLabels, randomClustering(syn, 4))"
      ],
      "metadata": {
        "id": "mGqHblM8C5ZI"
      },
      "execution_count": 8,
      "outputs": []
    },
    {
      "cell_type": "markdown",
      "source": [
        "Display results and compute the mean and standard deviation"
      ],
      "metadata": {
        "id": "fO1jfVCRzC0e"
      }
    },
    {
      "cell_type": "code",
      "source": [
        "plt.bar(0, np.mean(ri), yerr = np.std(ri), alpha=0.5, ecolor='black', capsize=10)\n",
        "plt.show()"
      ],
      "metadata": {
        "colab": {
          "base_uri": "https://localhost:8080/",
          "height": 430
        },
        "id": "OVXYaqDgDI-h",
        "outputId": "4dea504e-fac6-4d06-f0a5-c227e22c5629"
      },
      "execution_count": 9,
      "outputs": [
        {
          "output_type": "display_data",
          "data": {
            "text/plain": [
              "<Figure size 640x480 with 1 Axes>"
            ],
            "image/png": "[encoded data removed]"
          },
          "metadata": {}
        }
      ]
    },
    {
      "cell_type": "markdown",
      "source": [
        "**Part II: Hierarchical Clustering**"
      ],
      "metadata": {
        "id": "xmVF_RI6DQRB"
      }
    },
    {
      "cell_type": "markdown",
      "source": [
        "**Exercise 3:** Compute the euclidean distance matrix using the pdist function from\n",
        "scipy.spatial.distance."
      ],
      "metadata": {
        "id": "TyJe5EVjDSfP"
      }
    },
    {
      "cell_type": "code",
      "source": [
        "import scipy\n",
        "from scipy.cluster.hierarchy import linkage\n",
        "euc_distance_matrix = scipy.spatial.distance.pdist(syn)"
      ],
      "metadata": {
        "id": "O7TKtOkyDULS"
      },
      "execution_count": 10,
      "outputs": []
    },
    {
      "cell_type": "markdown",
      "source": [
        "Display and interpret its shape"
      ],
      "metadata": {
        "id": "-DaUBs-izNFX"
      }
    },
    {
      "cell_type": "code",
      "source": [
        "#We compute the squareform with scipy.spatial.distance.squareform\n",
        "#and plot a heatmap through seaborn\n",
        "import seaborn as sbn\n",
        "squareform = scipy.spatial.distance.squareform(euc_distance_matrix)\n",
        "plt.title(\"Eucledian distance matrix \")\n",
        "sbn.heatmap(squareform)\n",
        "plt.show()"
      ],
      "metadata": {
        "colab": {
          "base_uri": "https://localhost:8080/",
          "height": 456
        },
        "id": "supWFLevDcGy",
        "outputId": "5d9ab8ba-a19c-4ebe-c841-bd3c5407907a"
      },
      "execution_count": 11,
      "outputs": [
        {
          "output_type": "display_data",
          "data": {
            "text/plain": [
              "<Figure size 640x480 with 2 Axes>"
            ],
            "image/png": "[encoded data removed]"
          },
          "metadata": {}
        }
      ]
    },
    {
      "cell_type": "markdown",
      "source": [
        "Answer here: We can see that the diagonal is black because the euclidian distance between same number is equal to 0.\n",
        "\n",
        "Compute the single link hierarchical clustering using the linkage function from\n",
        "scipy.cluster.hierarchy."
      ],
      "metadata": {
        "id": "RzMQWLd5rfLT"
      }
    },
    {
      "cell_type": "code",
      "source": [
        "l = sc.cluster.hierarchy.linkage(euc_distance_matrix)\n"
      ],
      "metadata": {
        "id": "J9YBcZwVD19k"
      },
      "execution_count": 12,
      "outputs": []
    },
    {
      "cell_type": "markdown",
      "source": [
        "**Exercise 4:** Display the corresponding dendrogram using the dendrogram function\n",
        "from scipy.cluster.hierarchy"
      ],
      "metadata": {
        "id": "s4w2RHjgE8_4"
      }
    },
    {
      "cell_type": "code",
      "source": [
        "plt.figure()\n",
        "dn = sc.cluster.hierarchy.dendrogram(l)"
      ],
      "metadata": {
        "colab": {
          "base_uri": "https://localhost:8080/",
          "height": 425
        },
        "id": "deGHgnStE_L-",
        "outputId": "0d91d7ff-a4a1-42a6-c9fb-3515e9b5e7d1"
      },
      "execution_count": 13,
      "outputs": [
        {
          "output_type": "display_data",
          "data": {
            "text/plain": [
              "<Figure size 640x480 with 1 Axes>"
            ],
            "image/png": "[encoded data removed]"
          },
          "metadata": {}
        }
      ]
    },
    {
      "cell_type": "markdown",
      "source": [
        "Implement a clustering algorithm that cuts the dendrogram in order to produce k clusters\n",
        "using the fcluster function from scipy.cluster.hierarchy."
      ],
      "metadata": {
        "id": "_IME3-_HrlXc"
      }
    },
    {
      "cell_type": "code",
      "source": [
        "def agglomerativeClustering(x, k):\n",
        "  d = sc.spatial.distance.pdist(x)\n",
        "  l = sc.cluster.hierarchy.linkage(d)\n",
        "  return sc.cluster.hierarchy.fcluster(l, k, criterion='maxclust')\n",
        "agg = agglomerativeClustering(syn, 4)"
      ],
      "metadata": {
        "id": "iEtcdLRvFFTU"
      },
      "execution_count": 14,
      "outputs": []
    },
    {
      "cell_type": "markdown",
      "source": [
        "**Exercise 5:** Compute the rand index between the reference clustering and 100 runs of\n",
        "this clustering algorithm."
      ],
      "metadata": {
        "id": "OVgzV7pLFdLh"
      }
    },
    {
      "cell_type": "code",
      "source": [
        "ri = np.zeros((100))\n",
        "for k in range(100):\n",
        "  ri[k] = rand_index(synLabels, agglomerativeClustering(syn, 4))"
      ],
      "metadata": {
        "id": "39gfxBhlFhs1"
      },
      "execution_count": 15,
      "outputs": []
    },
    {
      "cell_type": "markdown",
      "source": [
        "Display results and compute the mean and variance."
      ],
      "metadata": {
        "id": "uRyc1ukx0aZm"
      }
    },
    {
      "cell_type": "code",
      "source": [
        "plt.bar(0, np.mean(ri), yerr = np.std(ri), alpha=0.5, ecolor='black', capsize=10)\n",
        "plt.show()"
      ],
      "metadata": {
        "colab": {
          "base_uri": "https://localhost:8080/",
          "height": 430
        },
        "id": "A9k_L0bbFqQj",
        "outputId": "70cb7b3d-090f-47bc-976f-08d6d13f036c"
      },
      "execution_count": 16,
      "outputs": [
        {
          "output_type": "display_data",
          "data": {
            "text/plain": [
              "<Figure size 640x480 with 1 Axes>"
            ],
            "image/png": "[encoded data removed]"
          },
          "metadata": {}
        }
      ]
    },
    {
      "cell_type": "markdown",
      "source": [
        "Explain why the standard deviation is 0.\n",
        "The standard deviation is equal to 0 beacause all values are equal.\n",
        "\n",
        "The algorithm is deterministic.\n"
      ],
      "metadata": {
        "id": "S5XpInoo0kfv"
      }
    },
    {
      "cell_type": "markdown",
      "source": [
        "**Part III: Partitional Clustering - Kmeans**"
      ],
      "metadata": {
        "id": "8YtVX647F3hm"
      }
    },
    {
      "cell_type": "markdown",
      "source": [
        "**Exercise 6:** Implement the k-means algorithm (see https://en.wikipedia.org/wiki/Kmeans_clustering section Standard algorithm for reference).\n",
        "\n",
        "Hint: please consider the cdist function from scipy.spatial.distance to compute the distance\n",
        "of the points to the centroids."
      ],
      "metadata": {
        "id": "lHodrpiNF6BP"
      }
    },
    {
      "cell_type": "code",
      "source": [
        "def kMeans(dataset, k, nbIterations=100, show=False):\n",
        "    centroids = np.random.random((k, dataset.shape[1])) * np.max(dataset)\n",
        "    labels = np.zeros((dataset.shape[0]))\n",
        "\n",
        "    for i in range(nbIterations):\n",
        "        pastLabels = labels.copy()\n",
        "        cd = scipy.spatial.distance.cdist(dataset, centroids)\n",
        "        labels = np.argmin(cd, axis=1)\n",
        "\n",
        "        if show:\n",
        "            plt.scatter(dataset[:, 0], dataset[:, 1], c=labels)\n",
        "            plt.scatter(centroids[:, 0], centroids[:, 1], s=100, c='red', alpha=0.5)\n",
        "            plt.show()\n",
        "\n",
        "        for c in range(k):\n",
        "            if np.sum(labels == c) == 0:\n",
        "                centroids[c, :] = np.random.random(dataset.shape[1]) * np.max(dataset, axis=0)\n",
        "            else:\n",
        "                centroids[c, :] = np.mean(dataset[labels == c, :], axis=0)\n",
        "\n",
        "        if np.all(pastLabels == labels):\n",
        "            print(\"Convergence atteinte à l'itération\", i)\n",
        "            break\n",
        "\n",
        "    for c in range(k):\n",
        "        if np.sum(labels == c) == 0:\n",
        "            print(f\"Cluster vide détecté: {c}\")\n",
        "\n",
        "    return labels"
      ],
      "metadata": {
        "id": "B-xrvv-gGDdE"
      },
      "execution_count": 17,
      "outputs": []
    },
    {
      "cell_type": "markdown",
      "source": [
        "**Exercise 7**: Compute the rand index between the reference clustering and 100 runs of\n",
        "this clustering algorithm."
      ],
      "metadata": {
        "id": "Kqz6NSBIGaaP"
      }
    },
    {
      "cell_type": "code",
      "source": [
        "ri = np.zeros((100))\n",
        "for k in range(100):\n",
        "    ri[k] = rand_index(synLabels, kMeans(syn, 4))"
      ],
      "metadata": {
        "colab": {
          "base_uri": "https://localhost:8080/"
        },
        "id": "dqFPRgILFRN5",
        "outputId": "0be9f88a-09f8-440e-d4d4-8071d8493536"
      },
      "execution_count": 18,
      "outputs": [
        {
          "output_type": "stream",
          "name": "stdout",
          "text": [
            "Convergence atteinte à l'itération 3\n",
            "Convergence atteinte à l'itération 3\n",
            "Convergence atteinte à l'itération 6\n",
            "Convergence atteinte à l'itération 2\n",
            "Cluster vide détecté: 3\n",
            "Convergence atteinte à l'itération 2\n",
            "Convergence atteinte à l'itération 4\n",
            "Convergence atteinte à l'itération 4\n",
            "Convergence atteinte à l'itération 5\n",
            "Convergence atteinte à l'itération 3\n",
            "Convergence atteinte à l'itération 3\n",
            "Convergence atteinte à l'itération 5\n",
            "Convergence atteinte à l'itération 5\n",
            "Convergence atteinte à l'itération 4\n",
            "Convergence atteinte à l'itération 4\n",
            "Convergence atteinte à l'itération 1\n",
            "Cluster vide détecté: 0\n",
            "Convergence atteinte à l'itération 4\n",
            "Convergence atteinte à l'itération 3\n",
            "Convergence atteinte à l'itération 5\n",
            "Convergence atteinte à l'itération 3\n",
            "Convergence atteinte à l'itération 3\n",
            "Convergence atteinte à l'itération 3\n",
            "Convergence atteinte à l'itération 4\n",
            "Convergence atteinte à l'itération 1\n",
            "Cluster vide détecté: 3\n",
            "Convergence atteinte à l'itération 4\n",
            "Convergence atteinte à l'itération 2\n",
            "Convergence atteinte à l'itération 2\n",
            "Convergence atteinte à l'itération 3\n",
            "Cluster vide détecté: 2\n",
            "Convergence atteinte à l'itération 2\n",
            "Convergence atteinte à l'itération 5\n",
            "Convergence atteinte à l'itération 4\n",
            "Convergence atteinte à l'itération 2\n",
            "Cluster vide détecté: 2\n",
            "Convergence atteinte à l'itération 8\n",
            "Convergence atteinte à l'itération 5\n",
            "Convergence atteinte à l'itération 11\n",
            "Convergence atteinte à l'itération 4\n",
            "Convergence atteinte à l'itération 2\n",
            "Cluster vide détecté: 2\n",
            "Convergence atteinte à l'itération 5\n",
            "Convergence atteinte à l'itération 2\n",
            "Cluster vide détecté: 3\n",
            "Convergence atteinte à l'itération 2\n",
            "Cluster vide détecté: 0\n",
            "Convergence atteinte à l'itération 4\n",
            "Convergence atteinte à l'itération 3\n",
            "Convergence atteinte à l'itération 7\n",
            "Convergence atteinte à l'itération 1\n",
            "Cluster vide détecté: 2\n",
            "Convergence atteinte à l'itération 3\n",
            "Convergence atteinte à l'itération 1\n",
            "Cluster vide détecté: 2\n",
            "Convergence atteinte à l'itération 3\n",
            "Convergence atteinte à l'itération 6\n",
            "Convergence atteinte à l'itération 3\n",
            "Convergence atteinte à l'itération 3\n",
            "Convergence atteinte à l'itération 3\n",
            "Convergence atteinte à l'itération 2\n",
            "Convergence atteinte à l'itération 5\n",
            "Convergence atteinte à l'itération 1\n",
            "Cluster vide détecté: 0\n",
            "Cluster vide détecté: 3\n",
            "Convergence atteinte à l'itération 5\n",
            "Convergence atteinte à l'itération 5\n",
            "Convergence atteinte à l'itération 2\n",
            "Convergence atteinte à l'itération 4\n",
            "Convergence atteinte à l'itération 4\n",
            "Convergence atteinte à l'itération 4\n",
            "Convergence atteinte à l'itération 1\n",
            "Cluster vide détecté: 3\n",
            "Convergence atteinte à l'itération 2\n",
            "Convergence atteinte à l'itération 2\n",
            "Cluster vide détecté: 0\n",
            "Convergence atteinte à l'itération 2\n",
            "Convergence atteinte à l'itération 3\n",
            "Convergence atteinte à l'itération 4\n",
            "Convergence atteinte à l'itération 3\n",
            "Convergence atteinte à l'itération 2\n",
            "Convergence atteinte à l'itération 2\n",
            "Cluster vide détecté: 0\n",
            "Convergence atteinte à l'itération 3\n",
            "Convergence atteinte à l'itération 4\n",
            "Convergence atteinte à l'itération 2\n",
            "Cluster vide détecté: 2\n",
            "Convergence atteinte à l'itération 4\n",
            "Convergence atteinte à l'itération 5\n",
            "Convergence atteinte à l'itération 2\n",
            "Convergence atteinte à l'itération 3\n",
            "Convergence atteinte à l'itération 2\n",
            "Convergence atteinte à l'itération 4\n",
            "Convergence atteinte à l'itération 4\n",
            "Convergence atteinte à l'itération 4\n",
            "Convergence atteinte à l'itération 9\n",
            "Convergence atteinte à l'itération 7\n",
            "Convergence atteinte à l'itération 2\n",
            "Convergence atteinte à l'itération 2\n",
            "Convergence atteinte à l'itération 4\n",
            "Convergence atteinte à l'itération 2\n",
            "Convergence atteinte à l'itération 2\n",
            "Convergence atteinte à l'itération 2\n",
            "Convergence atteinte à l'itération 2\n",
            "Convergence atteinte à l'itération 3\n",
            "Convergence atteinte à l'itération 3\n",
            "Convergence atteinte à l'itération 4\n",
            "Convergence atteinte à l'itération 3\n",
            "Convergence atteinte à l'itération 3\n",
            "Convergence atteinte à l'itération 3\n",
            "Convergence atteinte à l'itération 1\n",
            "Cluster vide détecté: 2\n",
            "Cluster vide détecté: 3\n",
            "Convergence atteinte à l'itération 3\n",
            "Convergence atteinte à l'itération 4\n",
            "Cluster vide détecté: 1\n",
            "Convergence atteinte à l'itération 4\n",
            "Convergence atteinte à l'itération 2\n",
            "Convergence atteinte à l'itération 4\n"
          ]
        }
      ]
    },
    {
      "cell_type": "markdown",
      "source": [
        "Display results and compute the mean and variance."
      ],
      "metadata": {
        "id": "qQ439oRe2JPV"
      }
    },
    {
      "cell_type": "code",
      "source": [
        "plt.bar(0, np.mean(ri), yerr = np.std(ri), alpha=0.5, ecolor='black', capsize=10)\n",
        "plt.show()"
      ],
      "metadata": {
        "colab": {
          "base_uri": "https://localhost:8080/",
          "height": 430
        },
        "id": "FaJeY4ZSDweq",
        "outputId": "88007ff5-f525-48ab-d3a7-fb3ccbc96e39"
      },
      "execution_count": 20,
      "outputs": [
        {
          "output_type": "display_data",
          "data": {
            "text/plain": [
              "<Figure size 640x480 with 1 Axes>"
            ],
            "image/png": "[encoded data removed]"
          },
          "metadata": {}
        }
      ]
    },
    {
      "cell_type": "markdown",
      "source": [
        "**Part IV: DBSCAN**\n",
        "\n",
        "Density-based spatial clustering of applications with noise (DBSCAN) is a data clustering\n",
        "algorithm proposed by Martin Ester, Hans-Peter Kriegel, Jörg Sander and Xiaowei Xu in 1996.\n",
        "It is a density-based clustering non-parametric algorithm: given a set of points in some\n",
        "space, it groups together points that are closely packed together (points with many nearby\n",
        "neighbors), marking as outliers points that lie alone in low-density regions (whose nearest\n",
        "neighbors are too far away). DBSCAN have two parameters important: eps and min_sample.\n",
        "Unlike Kmeans, we don't have to specify the number of clusters before clustering."
      ],
      "metadata": {
        "id": "NXJqMrzXEegq"
      }
    },
    {
      "cell_type": "markdown",
      "source": [
        "**Exercise 8:** Clustering the data syn by DBSCAN\n",
        "\n",
        "Here, you can use directily sklearn.cluster.DBSCAN(eps=0.5, min_samples=5,\n",
        "metric='euclidean')"
      ],
      "metadata": {
        "id": "zQeOgDq0sAVn"
      }
    },
    {
      "cell_type": "code",
      "source": [
        "from sklearn.cluster import DBSCAN\n",
        "clustering_DBSCAN = DBSCAN(eps=0.5, min_samples=5).fit(syn)"
      ],
      "metadata": {
        "id": "TklDyseGEcSM"
      },
      "execution_count": 21,
      "outputs": []
    },
    {
      "cell_type": "markdown",
      "source": [
        "After clustering, give us the labels for each observation."
      ],
      "metadata": {
        "id": "t--jK6Gd2yBP"
      }
    },
    {
      "cell_type": "code",
      "source": [
        "clustering_DBSCAN.labels_"
      ],
      "metadata": {
        "id": "ZzdgRB0BElj8",
        "colab": {
          "base_uri": "https://localhost:8080/"
        },
        "outputId": "e5f78e6a-19bb-41b4-c3cf-09ca13f74c7e"
      },
      "execution_count": 22,
      "outputs": [
        {
          "output_type": "execute_result",
          "data": {
            "text/plain": [
              "array([0, 0, 0, 0, 0, 0, 0, 0, 0, 0, 0, 0, 0, 0, 0, 0, 0, 0, 0, 0, 0, 0,\n",
              "       0, 0, 0, 1, 1, 1, 1, 1, 1, 1, 1, 1, 1, 1, 1, 1, 1, 1, 1, 1, 1, 1,\n",
              "       1, 1, 1, 1, 1, 1, 2, 2, 2, 2, 2, 2, 2, 2, 2, 2, 2, 2, 2, 2, 2, 2,\n",
              "       2, 2, 2, 2, 2, 2, 2, 2, 2, 3, 3, 3, 3, 3, 3, 3, 3, 3, 3, 3, 3, 3,\n",
              "       3, 3, 3, 3, 3, 3, 3, 3, 3, 3, 3, 3])"
            ]
          },
          "metadata": {},
          "execution_count": 22
        }
      ]
    },
    {
      "cell_type": "markdown",
      "source": [
        "Compute the rand index between the reference clustering and 100 runs of this DBSCAN\n",
        "clustering algorithm."
      ],
      "metadata": {
        "id": "ova9TZFz22mC"
      }
    },
    {
      "cell_type": "code",
      "source": [
        "ri = np.zeros((100))\n",
        "for k in range(100):\n",
        "  clustering_DBSCAN = DBSCAN(eps=0.5, min_samples=5).fit(syn)\n",
        "  ri[k] = rand_index(synLabels, clustering_DBSCAN.labels_)"
      ],
      "metadata": {
        "id": "ooGbreZ_EvMM"
      },
      "execution_count": 23,
      "outputs": []
    },
    {
      "cell_type": "code",
      "source": [
        "plt.bar(0, np.mean(ri), yerr = np.std(ri), alpha=0.5, ecolor='black', capsize=10)\n",
        "plt.show()"
      ],
      "metadata": {
        "colab": {
          "base_uri": "https://localhost:8080/",
          "height": 430
        },
        "id": "8GjvHkkxFaxb",
        "outputId": "cf8b28cc-1cbc-4e58-8b7f-967bb30e9c07"
      },
      "execution_count": 24,
      "outputs": [
        {
          "output_type": "display_data",
          "data": {
            "text/plain": [
              "<Figure size 640x480 with 1 Axes>"
            ],
            "image/png": "[encoded data removed]"
          },
          "metadata": {}
        }
      ]
    },
    {
      "cell_type": "markdown",
      "source": [
        "**Exercise 9:** Performance Analysis"
      ],
      "metadata": {
        "id": "OzzyBj8ZFtk3"
      }
    },
    {
      "cell_type": "markdown",
      "source": [
        "Display the performance of the 4 clustering algorithms (Random, Hierarchical Clustering,\n",
        "Kmeans and DBSCAN) on the synthetic dataset using the bar function from\n",
        "matplotlib.pyplot."
      ],
      "metadata": {
        "id": "3so0trW8PMvD"
      }
    },
    {
      "cell_type": "code",
      "source": [
        "ri = np.zeros((4, 100))\n",
        "for k in range(100):\n",
        "  ri[0, k] = rand_index(synLabels, randomClustering(syn, 4))\n",
        "  ri[1, k] = rand_index(synLabels, agglomerativeClustering(syn, 4))\n",
        "  ri[2, k] = rand_index(synLabels, kMeans(syn, 4))\n",
        "  ri[3, k] = rand_index(synLabels, DBSCAN(eps=0.5, min_samples=5).fit(syn).labels_)\n",
        "\n",
        "x = [0, 1, 2, 3]\n",
        "plt.bar(x, np.mean(ri, axis=1), yerr=np.std(ri, axis=1), alpha=0.5, ecolor='black')\n",
        "plt.ylabel('rand index')\n",
        "plt.xticks(x, ['Random', 'Hierarchical', 'kmeans', 'DBSCAN'])\n",
        "plt.show()"
      ],
      "metadata": {
        "colab": {
          "base_uri": "https://localhost:8080/",
          "height": 1000
        },
        "id": "b16pj7PxFvXo",
        "outputId": "4ec8252b-cd1d-4313-f8b1-60e43b76143e"
      },
      "execution_count": 25,
      "outputs": [
        {
          "output_type": "stream",
          "name": "stdout",
          "text": [
            "Convergence atteinte à l'itération 3\n",
            "Cluster vide détecté: 0\n",
            "Convergence atteinte à l'itération 3\n",
            "Convergence atteinte à l'itération 4\n",
            "Convergence atteinte à l'itération 3\n",
            "Cluster vide détecté: 1\n",
            "Convergence atteinte à l'itération 2\n",
            "Convergence atteinte à l'itération 3\n",
            "Convergence atteinte à l'itération 6\n",
            "Convergence atteinte à l'itération 4\n",
            "Convergence atteinte à l'itération 6\n",
            "Convergence atteinte à l'itération 10\n",
            "Convergence atteinte à l'itération 1\n",
            "Cluster vide détecté: 3\n",
            "Convergence atteinte à l'itération 1\n",
            "Cluster vide détecté: 3\n",
            "Convergence atteinte à l'itération 3\n",
            "Cluster vide détecté: 1\n",
            "Convergence atteinte à l'itération 6\n",
            "Convergence atteinte à l'itération 4\n",
            "Convergence atteinte à l'itération 5\n",
            "Convergence atteinte à l'itération 3\n",
            "Convergence atteinte à l'itération 3\n",
            "Convergence atteinte à l'itération 3\n",
            "Convergence atteinte à l'itération 2\n",
            "Cluster vide détecté: 0\n",
            "Convergence atteinte à l'itération 2\n",
            "Cluster vide détecté: 1\n",
            "Convergence atteinte à l'itération 3\n",
            "Cluster vide détecté: 1\n",
            "Convergence atteinte à l'itération 2\n",
            "Cluster vide détecté: 2\n",
            "Convergence atteinte à l'itération 2\n",
            "Convergence atteinte à l'itération 3\n",
            "Convergence atteinte à l'itération 4\n",
            "Convergence atteinte à l'itération 4\n",
            "Convergence atteinte à l'itération 3\n",
            "Convergence atteinte à l'itération 1\n",
            "Cluster vide détecté: 0\n",
            "Convergence atteinte à l'itération 6\n",
            "Convergence atteinte à l'itération 5\n",
            "Convergence atteinte à l'itération 5\n",
            "Convergence atteinte à l'itération 1\n",
            "Convergence atteinte à l'itération 1\n",
            "Cluster vide détecté: 1\n",
            "Convergence atteinte à l'itération 2\n",
            "Convergence atteinte à l'itération 5\n",
            "Convergence atteinte à l'itération 3\n",
            "Convergence atteinte à l'itération 2\n",
            "Cluster vide détecté: 0\n",
            "Convergence atteinte à l'itération 2\n",
            "Cluster vide détecté: 2\n",
            "Convergence atteinte à l'itération 4\n",
            "Convergence atteinte à l'itération 3\n",
            "Convergence atteinte à l'itération 3\n",
            "Convergence atteinte à l'itération 1\n",
            "Cluster vide détecté: 2\n",
            "Convergence atteinte à l'itération 1\n",
            "Convergence atteinte à l'itération 2\n",
            "Convergence atteinte à l'itération 4\n",
            "Convergence atteinte à l'itération 1\n",
            "Cluster vide détecté: 1\n",
            "Convergence atteinte à l'itération 4\n",
            "Convergence atteinte à l'itération 7\n",
            "Convergence atteinte à l'itération 2\n",
            "Convergence atteinte à l'itération 1\n",
            "Cluster vide détecté: 0\n",
            "Convergence atteinte à l'itération 4\n",
            "Convergence atteinte à l'itération 4\n",
            "Convergence atteinte à l'itération 5\n",
            "Convergence atteinte à l'itération 6\n",
            "Convergence atteinte à l'itération 2\n",
            "Cluster vide détecté: 0\n",
            "Convergence atteinte à l'itération 3\n",
            "Convergence atteinte à l'itération 4\n",
            "Convergence atteinte à l'itération 2\n",
            "Cluster vide détecté: 1\n",
            "Convergence atteinte à l'itération 4\n",
            "Convergence atteinte à l'itération 2\n",
            "Convergence atteinte à l'itération 3\n",
            "Convergence atteinte à l'itération 2\n",
            "Convergence atteinte à l'itération 3\n",
            "Convergence atteinte à l'itération 3\n",
            "Convergence atteinte à l'itération 3\n",
            "Convergence atteinte à l'itération 3\n",
            "Convergence atteinte à l'itération 2\n",
            "Cluster vide détecté: 1\n",
            "Convergence atteinte à l'itération 4\n",
            "Convergence atteinte à l'itération 4\n",
            "Convergence atteinte à l'itération 2\n",
            "Cluster vide détecté: 3\n",
            "Convergence atteinte à l'itération 3\n",
            "Convergence atteinte à l'itération 2\n",
            "Cluster vide détecté: 0\n",
            "Convergence atteinte à l'itération 4\n",
            "Convergence atteinte à l'itération 5\n",
            "Convergence atteinte à l'itération 1\n",
            "Cluster vide détecté: 2\n",
            "Cluster vide détecté: 3\n",
            "Convergence atteinte à l'itération 3\n",
            "Convergence atteinte à l'itération 5\n",
            "Convergence atteinte à l'itération 4\n",
            "Convergence atteinte à l'itération 4\n",
            "Cluster vide détecté: 0\n",
            "Convergence atteinte à l'itération 2\n",
            "Cluster vide détecté: 3\n",
            "Convergence atteinte à l'itération 4\n",
            "Convergence atteinte à l'itération 2\n",
            "Convergence atteinte à l'itération 5\n",
            "Convergence atteinte à l'itération 4\n",
            "Cluster vide détecté: 2\n",
            "Convergence atteinte à l'itération 3\n",
            "Convergence atteinte à l'itération 2\n",
            "Convergence atteinte à l'itération 3\n",
            "Convergence atteinte à l'itération 1\n",
            "Cluster vide détecté: 0\n",
            "Cluster vide détecté: 1\n",
            "Convergence atteinte à l'itération 3\n",
            "Convergence atteinte à l'itération 5\n",
            "Convergence atteinte à l'itération 4\n",
            "Convergence atteinte à l'itération 1\n",
            "Cluster vide détecté: 3\n",
            "Convergence atteinte à l'itération 3\n",
            "Convergence atteinte à l'itération 6\n",
            "Convergence atteinte à l'itération 8\n",
            "Convergence atteinte à l'itération 3\n",
            "Cluster vide détecté: 3\n",
            "Convergence atteinte à l'itération 2\n",
            "Convergence atteinte à l'itération 3\n",
            "Convergence atteinte à l'itération 2\n",
            "Cluster vide détecté: 2\n"
          ]
        },
        {
          "output_type": "display_data",
          "data": {
            "text/plain": [
              "<Figure size 640x480 with 1 Axes>"
            ],
            "image/png": "[encoded data removed]"
          },
          "metadata": {}
        }
      ]
    },
    {
      "cell_type": "markdown",
      "source": [
        "**Exercice 10:** Load the iris dataset using the sklearn.datasets.load_iris function from scikit-learn and perform the same performance analysis using this dataset"
      ],
      "metadata": {
        "id": "sKTdg3tJHk_o"
      }
    },
    {
      "cell_type": "markdown",
      "source": [
        "This data sets consists of 3 different types of irises’ (Setosa, Versicolour, and Virginica) petal\n",
        "and sepal length, stored in a 150x4 numpy.ndarray. This dataset have reference label in the\n",
        "'target' column. The 3 features are included inside the 'data'.\n",
        "\n",
        "The rows being the samples and the columns being: Sepal Length, Sepal Width, Petal Length\n",
        "and Petal Width"
      ],
      "metadata": {
        "id": "DvzeO-SHPrMe"
      }
    },
    {
      "cell_type": "code",
      "source": [
        "from sklearn.datasets import load_iris\n",
        "\n",
        "#charger le jeu de donner iris\n",
        "iris = load_iris()\n",
        "data = iris.data\n",
        "target = iris.target\n",
        "\n",
        "# Initialiser un tableau pour stocker les valeurs de l'indice de Rand pour différentes méthodes de regroupement\n",
        "ri = np.zeros((4, 100))\n",
        "for k in range(100):\n",
        "  ri[0, k] = rand_index(target, randomClustering(data, 3))\n",
        "  ri[1, k] = rand_index(target, agglomerativeClustering(data, 3))\n",
        "  ri[2, k] = rand_index(target, kMeans(data, 3))\n",
        "  ri[3, k] = rand_index(target, DBSCAN(eps=0.5, min_samples=5).fit(data).labels_)\n",
        "\n",
        "# Tracer les résultats\n",
        "x = [0, 1, 2, 3]\n",
        "plt.bar(x, np.mean(ri, axis=1), yerr=np.std(ri, axis=1), alpha=0.5, ecolor='black')\n",
        "plt.ylabel('rand index')\n",
        "plt.xticks(x, ['Random', 'Hierarchical', 'K-means', 'DBSCAN'])\n",
        "plt.show()\n",
        "\n"
      ],
      "metadata": {
        "id": "q65XylSHOoT7",
        "colab": {
          "base_uri": "https://localhost:8080/",
          "height": 1000
        },
        "outputId": "2985c74d-1ff2-45a2-bed9-e582a217e744"
      },
      "execution_count": 30,
      "outputs": [
        {
          "output_type": "stream",
          "name": "stdout",
          "text": [
            "Convergence atteinte à l'itération 14\n",
            "Convergence atteinte à l'itération 0\n",
            "Cluster vide détecté: 1\n",
            "Cluster vide détecté: 2\n",
            "Convergence atteinte à l'itération 11\n",
            "Convergence atteinte à l'itération 5\n",
            "Cluster vide détecté: 0\n",
            "Convergence atteinte à l'itération 5\n",
            "Convergence atteinte à l'itération 13\n",
            "Convergence atteinte à l'itération 1\n",
            "Cluster vide détecté: 0\n",
            "Cluster vide détecté: 1\n",
            "Convergence atteinte à l'itération 0\n",
            "Cluster vide détecté: 1\n",
            "Cluster vide détecté: 2\n",
            "Convergence atteinte à l'itération 3\n",
            "Cluster vide détecté: 1\n",
            "Convergence atteinte à l'itération 14\n",
            "Convergence atteinte à l'itération 12\n",
            "Convergence atteinte à l'itération 8\n",
            "Convergence atteinte à l'itération 9\n",
            "Convergence atteinte à l'itération 13\n",
            "Convergence atteinte à l'itération 0\n",
            "Cluster vide détecté: 1\n",
            "Cluster vide détecté: 2\n",
            "Convergence atteinte à l'itération 11\n",
            "Convergence atteinte à l'itération 5\n",
            "Cluster vide détecté: 2\n",
            "Convergence atteinte à l'itération 8\n",
            "Convergence atteinte à l'itération 8\n",
            "Convergence atteinte à l'itération 9\n",
            "Convergence atteinte à l'itération 8\n",
            "Convergence atteinte à l'itération 6\n",
            "Convergence atteinte à l'itération 15\n",
            "Convergence atteinte à l'itération 4\n",
            "Convergence atteinte à l'itération 12\n",
            "Convergence atteinte à l'itération 12\n",
            "Convergence atteinte à l'itération 5\n",
            "Convergence atteinte à l'itération 12\n",
            "Convergence atteinte à l'itération 4\n",
            "Convergence atteinte à l'itération 2\n",
            "Cluster vide détecté: 1\n",
            "Convergence atteinte à l'itération 15\n",
            "Convergence atteinte à l'itération 3\n",
            "Convergence atteinte à l'itération 5\n",
            "Convergence atteinte à l'itération 11\n",
            "Convergence atteinte à l'itération 7\n",
            "Convergence atteinte à l'itération 14\n",
            "Convergence atteinte à l'itération 8\n",
            "Convergence atteinte à l'itération 5\n",
            "Cluster vide détecté: 1\n",
            "Convergence atteinte à l'itération 4\n",
            "Convergence atteinte à l'itération 7\n",
            "Convergence atteinte à l'itération 5\n",
            "Cluster vide détecté: 1\n",
            "Convergence atteinte à l'itération 6\n",
            "Convergence atteinte à l'itération 14\n",
            "Convergence atteinte à l'itération 5\n",
            "Convergence atteinte à l'itération 3\n",
            "Convergence atteinte à l'itération 11\n",
            "Convergence atteinte à l'itération 7\n",
            "Convergence atteinte à l'itération 14\n",
            "Convergence atteinte à l'itération 9\n",
            "Convergence atteinte à l'itération 6\n",
            "Cluster vide détecté: 1\n",
            "Convergence atteinte à l'itération 3\n",
            "Cluster vide détecté: 2\n",
            "Convergence atteinte à l'itération 6\n",
            "Convergence atteinte à l'itération 4\n",
            "Cluster vide détecté: 1\n",
            "Convergence atteinte à l'itération 0\n",
            "Cluster vide détecté: 1\n",
            "Cluster vide détecté: 2\n",
            "Convergence atteinte à l'itération 5\n",
            "Convergence atteinte à l'itération 8\n",
            "Convergence atteinte à l'itération 15\n",
            "Convergence atteinte à l'itération 14\n",
            "Convergence atteinte à l'itération 2\n",
            "Cluster vide détecté: 1\n",
            "Convergence atteinte à l'itération 8\n",
            "Convergence atteinte à l'itération 7\n",
            "Convergence atteinte à l'itération 10\n",
            "Convergence atteinte à l'itération 4\n",
            "Cluster vide détecté: 0\n",
            "Convergence atteinte à l'itération 2\n",
            "Cluster vide détecté: 0\n",
            "Convergence atteinte à l'itération 7\n",
            "Convergence atteinte à l'itération 3\n",
            "Cluster vide détecté: 0\n",
            "Convergence atteinte à l'itération 8\n",
            "Convergence atteinte à l'itération 1\n",
            "Cluster vide détecté: 0\n",
            "Cluster vide détecté: 2\n",
            "Convergence atteinte à l'itération 5\n",
            "Convergence atteinte à l'itération 1\n",
            "Cluster vide détecté: 0\n",
            "Cluster vide détecté: 1\n",
            "Convergence atteinte à l'itération 4\n",
            "Cluster vide détecté: 0\n",
            "Convergence atteinte à l'itération 4\n",
            "Cluster vide détecté: 0\n",
            "Convergence atteinte à l'itération 2\n",
            "Cluster vide détecté: 0\n",
            "Convergence atteinte à l'itération 2\n",
            "Cluster vide détecté: 0\n",
            "Convergence atteinte à l'itération 7\n",
            "Convergence atteinte à l'itération 12\n",
            "Convergence atteinte à l'itération 12\n",
            "Convergence atteinte à l'itération 2\n",
            "Cluster vide détecté: 1\n",
            "Convergence atteinte à l'itération 10\n",
            "Convergence atteinte à l'itération 4\n",
            "Convergence atteinte à l'itération 3\n",
            "Cluster vide détecté: 1\n",
            "Convergence atteinte à l'itération 13\n",
            "Convergence atteinte à l'itération 1\n",
            "Cluster vide détecté: 0\n",
            "Cluster vide détecté: 1\n",
            "Convergence atteinte à l'itération 7\n",
            "Convergence atteinte à l'itération 14\n",
            "Convergence atteinte à l'itération 2\n",
            "Cluster vide détecté: 1\n",
            "Convergence atteinte à l'itération 4\n",
            "Cluster vide détecté: 1\n",
            "Convergence atteinte à l'itération 3\n",
            "Cluster vide détecté: 1\n",
            "Convergence atteinte à l'itération 1\n",
            "Cluster vide détecté: 0\n",
            "Convergence atteinte à l'itération 12\n",
            "Convergence atteinte à l'itération 12\n",
            "Convergence atteinte à l'itération 7\n",
            "Convergence atteinte à l'itération 5\n",
            "Cluster vide détecté: 1\n",
            "Convergence atteinte à l'itération 14\n",
            "Convergence atteinte à l'itération 10\n",
            "Convergence atteinte à l'itération 9\n",
            "Convergence atteinte à l'itération 5\n",
            "Cluster vide détecté: 0\n",
            "Convergence atteinte à l'itération 16\n",
            "Convergence atteinte à l'itération 2\n",
            "Cluster vide détecté: 0\n",
            "Convergence atteinte à l'itération 7\n"
          ]
        },
        {
          "output_type": "display_data",
          "data": {
            "text/plain": [
              "<Figure size 640x480 with 1 Axes>"
            ],
            "image/png": "[encoded data removed]"
          },
          "metadata": {}
        }
      ]
    },
    {
      "cell_type": "markdown",
      "source": [
        "K-means is the best method to reach the goal in this case"
      ],
      "metadata": {
        "id": "Ckg7xheK4URf"
      }
    },
    {
      "cell_type": "markdown",
      "source": [
        "**Exercice 11:** Load the Breast cancer wisconsin (diagnostic) dataset"
      ],
      "metadata": {
        "id": "y3lJXZIwEwYK"
      }
    },
    {
      "cell_type": "markdown",
      "source": [
        "Use the sklearn.datasets.load_breast_cancer function from scikit-learn and perform the same\n",
        "performance analysis using this dataset.\n",
        "\n",
        "The breast cancer dataset is a classic and very easy binary classification dataset. The features\n",
        "are stored in 'data'. And the reference are stored in the 'target' ."
      ],
      "metadata": {
        "id": "rImKW-P6P7FF"
      }
    },
    {
      "cell_type": "code",
      "source": [
        "from sklearn.datasets import load_breast_cancer\n",
        "\n",
        "# Load the Breast Cancer Wisconsin (Diagnostic) dataset\n",
        "cancer = load_breast_cancer()\n",
        "data = cancer.data\n",
        "target = cancer.target\n",
        "\n",
        "plt.show()\n",
        "ri_all = np.zeros((4, 100))\n",
        "for k in range(100):\n",
        "    ri_all[0, k] = rand_index(target, randomClustering(data, 2))\n",
        "    ri_all[1, k] = rand_index(target, agglomerativeClustering(data, 2))\n",
        "    ri_all[2, k] = rand_index(target, kMeans(data, 2))\n",
        "    ri_all[3, k] = rand_index(target, DBSCAN(eps=0.5, min_samples=5).fit(data).labels_)\n",
        "\n",
        "x = [0, 1, 2, 3]\n",
        "plt.bar(x, np.mean(ri_all, axis=1), yerr=np.std(ri_all, axis=1), alpha=0.5, ecolor='black')\n",
        "plt.ylabel('Rand Index')\n",
        "plt.xticks(x, ['Random', 'Agglomerative', 'K-Means', 'DBSCAN'])\n",
        "plt.title('Comparative Analysis of Clustering Algorithms on Breast Cancer Dataset')\n",
        "plt.show()"
      ],
      "metadata": {
        "colab": {
          "base_uri": "https://localhost:8080/",
          "height": 1000
        },
        "id": "pSs122PNBtHE",
        "outputId": "7e918f92-fba4-4f2f-ebff-b5e938414f04"
      },
      "execution_count": 29,
      "outputs": [
        {
          "output_type": "stream",
          "name": "stdout",
          "text": [
            "Convergence atteinte à l'itération 11\n",
            "Convergence atteinte à l'itération 8\n",
            "Convergence atteinte à l'itération 10\n",
            "Convergence atteinte à l'itération 6\n",
            "Convergence atteinte à l'itération 9\n",
            "Convergence atteinte à l'itération 0\n",
            "Cluster vide détecté: 1\n",
            "Convergence atteinte à l'itération 11\n",
            "Convergence atteinte à l'itération 10\n",
            "Convergence atteinte à l'itération 0\n",
            "Cluster vide détecté: 1\n",
            "Convergence atteinte à l'itération 7\n",
            "Convergence atteinte à l'itération 0\n",
            "Cluster vide détecté: 1\n",
            "Convergence atteinte à l'itération 7\n",
            "Convergence atteinte à l'itération 11\n",
            "Convergence atteinte à l'itération 10\n",
            "Convergence atteinte à l'itération 10\n",
            "Convergence atteinte à l'itération 0\n",
            "Cluster vide détecté: 1\n",
            "Convergence atteinte à l'itération 6\n",
            "Convergence atteinte à l'itération 0\n",
            "Cluster vide détecté: 1\n",
            "Convergence atteinte à l'itération 10\n",
            "Convergence atteinte à l'itération 11\n",
            "Convergence atteinte à l'itération 3\n",
            "Convergence atteinte à l'itération 10\n",
            "Convergence atteinte à l'itération 0\n",
            "Cluster vide détecté: 1\n",
            "Convergence atteinte à l'itération 0\n",
            "Cluster vide détecté: 1\n",
            "Convergence atteinte à l'itération 0\n",
            "Cluster vide détecté: 1\n",
            "Convergence atteinte à l'itération 9\n",
            "Convergence atteinte à l'itération 0\n",
            "Cluster vide détecté: 1\n",
            "Convergence atteinte à l'itération 0\n",
            "Cluster vide détecté: 1\n",
            "Convergence atteinte à l'itération 11\n",
            "Convergence atteinte à l'itération 0\n",
            "Cluster vide détecté: 1\n",
            "Convergence atteinte à l'itération 11\n",
            "Convergence atteinte à l'itération 11\n",
            "Convergence atteinte à l'itération 11\n",
            "Convergence atteinte à l'itération 9\n",
            "Convergence atteinte à l'itération 7\n",
            "Convergence atteinte à l'itération 11\n",
            "Convergence atteinte à l'itération 8\n",
            "Convergence atteinte à l'itération 0\n",
            "Cluster vide détecté: 1\n",
            "Convergence atteinte à l'itération 8\n",
            "Convergence atteinte à l'itération 0\n",
            "Cluster vide détecté: 1\n",
            "Convergence atteinte à l'itération 8\n",
            "Convergence atteinte à l'itération 9\n",
            "Convergence atteinte à l'itération 0\n",
            "Cluster vide détecté: 1\n",
            "Convergence atteinte à l'itération 9\n",
            "Convergence atteinte à l'itération 0\n",
            "Cluster vide détecté: 1\n",
            "Convergence atteinte à l'itération 0\n",
            "Cluster vide détecté: 1\n",
            "Convergence atteinte à l'itération 10\n",
            "Convergence atteinte à l'itération 0\n",
            "Cluster vide détecté: 1\n",
            "Convergence atteinte à l'itération 7\n",
            "Convergence atteinte à l'itération 4\n",
            "Convergence atteinte à l'itération 0\n",
            "Cluster vide détecté: 1\n",
            "Convergence atteinte à l'itération 0\n",
            "Cluster vide détecté: 1\n",
            "Convergence atteinte à l'itération 0\n",
            "Cluster vide détecté: 1\n",
            "Convergence atteinte à l'itération 0\n",
            "Cluster vide détecté: 1\n",
            "Convergence atteinte à l'itération 0\n",
            "Cluster vide détecté: 1\n",
            "Convergence atteinte à l'itération 0\n",
            "Cluster vide détecté: 1\n",
            "Convergence atteinte à l'itération 9\n",
            "Convergence atteinte à l'itération 10\n",
            "Convergence atteinte à l'itération 0\n",
            "Cluster vide détecté: 1\n",
            "Convergence atteinte à l'itération 10\n",
            "Convergence atteinte à l'itération 9\n",
            "Convergence atteinte à l'itération 10\n",
            "Convergence atteinte à l'itération 5\n",
            "Convergence atteinte à l'itération 0\n",
            "Cluster vide détecté: 1\n",
            "Convergence atteinte à l'itération 10\n",
            "Convergence atteinte à l'itération 11\n",
            "Convergence atteinte à l'itération 0\n",
            "Cluster vide détecté: 1\n",
            "Convergence atteinte à l'itération 0\n",
            "Cluster vide détecté: 1\n",
            "Convergence atteinte à l'itération 6\n",
            "Convergence atteinte à l'itération 0\n",
            "Cluster vide détecté: 1\n",
            "Convergence atteinte à l'itération 0\n",
            "Cluster vide détecté: 1\n",
            "Convergence atteinte à l'itération 0\n",
            "Cluster vide détecté: 1\n",
            "Convergence atteinte à l'itération 0\n",
            "Cluster vide détecté: 1\n",
            "Convergence atteinte à l'itération 7\n",
            "Convergence atteinte à l'itération 0\n",
            "Cluster vide détecté: 1\n",
            "Convergence atteinte à l'itération 11\n",
            "Convergence atteinte à l'itération 7\n",
            "Convergence atteinte à l'itération 10\n",
            "Convergence atteinte à l'itération 8\n",
            "Convergence atteinte à l'itération 8\n",
            "Convergence atteinte à l'itération 11\n",
            "Convergence atteinte à l'itération 11\n",
            "Convergence atteinte à l'itération 0\n",
            "Cluster vide détecté: 1\n",
            "Convergence atteinte à l'itération 10\n",
            "Convergence atteinte à l'itération 0\n",
            "Cluster vide détecté: 1\n",
            "Convergence atteinte à l'itération 10\n",
            "Convergence atteinte à l'itération 8\n",
            "Convergence atteinte à l'itération 0\n",
            "Cluster vide détecté: 1\n",
            "Convergence atteinte à l'itération 11\n",
            "Convergence atteinte à l'itération 10\n",
            "Convergence atteinte à l'itération 10\n",
            "Convergence atteinte à l'itération 0\n",
            "Cluster vide détecté: 1\n",
            "Convergence atteinte à l'itération 10\n",
            "Convergence atteinte à l'itération 0\n",
            "Cluster vide détecté: 1\n",
            "Convergence atteinte à l'itération 9\n",
            "Convergence atteinte à l'itération 9\n",
            "Convergence atteinte à l'itération 0\n",
            "Cluster vide détecté: 1\n",
            "Convergence atteinte à l'itération 8\n",
            "Convergence atteinte à l'itération 7\n",
            "Convergence atteinte à l'itération 11\n"
          ]
        },
        {
          "output_type": "display_data",
          "data": {
            "text/plain": [
              "<Figure size 640x480 with 1 Axes>"
            ],
            "image/png": "[encoded data removed]"
          },
          "metadata": {}
        }
      ]
    },
    {
      "cell_type": "markdown",
      "source": [
        "K-means is again the best method for this dataset"
      ],
      "metadata": {
        "id": "twuijhKw6vjo"
      }
    },
    {
      "cell_type": "markdown",
      "source": [
        "##Explication du code:\n",
        "\n",
        "*  On importe la fonction load_iris de scikit-learn pour charger le jeu de données Iris.\n",
        "\n",
        "*  On récupère les données et les étiquettes du jeu de données.\n",
        "\n",
        "\n",
        "*   On initialise un tableau (ri) pour stocker les valeurs de l'indice de Rand. Il a une taille de 4x100 pour stocker les résultats de quatre méthodes de regroupement sur 100 itérations.\n",
        "\n",
        "*   On effectue le regroupement 100 fois en utilisant différentes méthodes, et on stocke les résultats dans le tableau ri.\n",
        "Chaque méthode de clustering a une approche différente pour regrouper des données. Voici une explication brève de ce que font exactement les méthodes utilisées:\n",
        "\n",
        "1. **Random Clustering (`randomClustering`) :**\n",
        "   - **Objectif :** Assigner des points de données à des clusters de manière aléatoire.\n",
        "   - **Comment :** Affecte chaque point à l'un des clusters de manière aléatoire.\n",
        "\n",
        "2. **Agglomerative Clustering (`agglomerativeClustering`) :**\n",
        "   - **Objectif :** Construire une hiérarchie de clusters en fusionnant progressivement des clusters similaires.\n",
        "   - **Comment :** Commence par traiter chaque point comme un cluster séparé, puis fusionne récursivement les clusters les plus similaires jusqu'à obtenir un seul cluster.\n",
        "\n",
        "3. **K-Means Clustering (`kMeans`) :**\n",
        "   - **Objectif :** Partitionner les données en k clusters, où k est prédéfini.\n",
        "   - **Comment :** Initialise k centres de cluster de manière aléatoire, attribue chaque point au cluster du centre le plus proche, puis met à jour les centres en calculant la moyenne des points dans chaque cluster. Répète ces étapes jusqu'à convergence.\n",
        "\n",
        "4. **DBSCAN (Density-Based Spatial Clustering of Applications with Noise) :**\n",
        "   - **Objectif :** Identifier des clusters basés sur la densité des points dans l'espace.\n",
        "   - **Comment :** Définit un point central dans un cluster si au moins un nombre minimum de points sont à une certaine distance de ce point. Ensuite, élargit le cluster en ajoutant des points qui sont également à une certaine distance du point central. Les points isolés peuvent être considérés comme du bruit.\n",
        "\n",
        "Chacune de ces méthodes a ses avantages et inconvénients, et leur efficacité peut dépendre de la nature des données. Le choix de la méthode de clustering dépend souvent de la structure des données et des objectifs spécifiques de l'analyse.\n",
        "\n",
        "*   On utilise la bibliothèque Matplotlib pour tracer un graphique à barres montrant la moyenne et l'écart type des indices de Rand pour chaque méthode de regroupement. Les méthodes sont affichées sur l'axe des x.\n",
        "\n",
        "L'objectif de ces codes est d'évaluer la performance de différentes méthodes de regroupement (aléatoire, hiérarchique, K-Means, DBSCAN) sur un jeu de données en utilisant l'indice de Rand. L'indice de Rand mesure la similarité entre les regroupements obtenus par les différentes méthodes et les étiquettes réelles du jeu de données.\n",
        "\n",
        "Les nombres que l'on peut voir dans les parenthèses, comme agglomerativeClustering(data, 3) ou kMeans(data, 3), représentent le nombre de clusters que l'on souhaite obtenir à partir de l'algorithme de clustering.\n",
        "\n",
        "Dans l'exercice 9, on travaille avec un jeu de données synthétique (syn) où on génère 4 groupes distincts. Ainsi, le nombre de clusters (k) était défini à 4 lors de l'appel de nos fonctions de clustering (randomClustering(syn, 4), agglomerativeClustering(syn, 4), kMeans(syn, 4)).\n",
        "\n",
        "Dans les exercices 10 et 11, on travaille avec des ensembles de données réels (Iris et Breast Cancer) qui ont déjà des étiquettes de classe définies (3 classes pour Iris, 2 classes pour le cancer du sein). Donc on utilise le nombre réel de classes dans ces ensembles de données comme argument pour le nombre de clusters.\n",
        "Comparons les performances des méthodes de clustering pour les trois jeux de données en utilisant les indices de Rand moyens obtenus sur plusieurs itérations (100 itérations dans votre code). Les indices de Rand vont de 0 (aucune correspondance) à 1 (correspondance parfaite).\n",
        "\n",
        "### Interprétation graphique :\n",
        "\n",
        "1. **Random Clustering :**\n",
        "   - Les performances sont assez similaires pour les trois ensembles de données. Les indices de Rand sont tous dans la plage de 0.5 à 0.6, indiquant une correspondance modérée avec les vrais clusters.\n",
        "\n",
        "2. **Agglomerative Clustering :**\n",
        "   - La méthode agglomérative fonctionne bien sur les données synthétiques (`syn`) mais montre une ambiguïté sur les ensembles de données réels (`data` et `features`), avec des indices de Rand inférieurs à 1.\n",
        "\n",
        "3. **K-Means Clustering :**\n",
        "   - Le K-Means a des performances élevées sur les données synthétiques et l'Iris dataset, mais montre une ambiguïté sur le Breast Cancer dataset.\n",
        "\n",
        "4. **DBSCAN :**\n",
        "   - DBSCAN fonctionne bien sur les données synthétiques et l'Iris dataset, mais montre une ambiguïté sur le Breast Cancer dataset.\n",
        "\n",
        "**Remarques générales :**\n",
        "- Les données synthétiques ont été générées spécifiquement pour certaines méthodes, ce qui explique leurs performances exceptionnelles.\n",
        "- Les ensembles de données réels, en particulier le Breast Cancer dataset, présentent des complexités qui peuvent affecter la performance des méthodes de clustering.\n",
        "- Les indices de Rand indiquent une correspondance partielle avec les vrais clusters pour la plupart des méthodes et des ensembles de données. Cela peut être dû à la nature des données réelles et à la difficulté de les regrouper parfaitement.\n"
      ],
      "metadata": {
        "id": "uDkj2mPuRpMl"
      }
    }
  ]
}